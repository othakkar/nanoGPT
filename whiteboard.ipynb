{
 "cells": [
  {
   "cell_type": "code",
   "execution_count": 1,
   "id": "9bd3c846-8d9e-468a-8ca3-9113875a1ec8",
   "metadata": {},
   "outputs": [],
   "source": [
    "# Reading the text dataset\n",
    "with open('dataset.txt', 'r', encoding='utf-8') as f:\n",
    "    text = f.read()"
   ]
  },
  {
   "cell_type": "code",
   "execution_count": 2,
   "id": "db6ebdf7-890b-4909-9a36-cdf19f6fdbbb",
   "metadata": {},
   "outputs": [
    {
     "name": "stdout",
     "output_type": "stream",
     "text": [
      "Length of dataset in chars:  1115394\n"
     ]
    }
   ],
   "source": [
    "print(\"Length of dataset in chars: \", len(text))"
   ]
  },
  {
   "cell_type": "code",
   "execution_count": 3,
   "id": "8e3be479-95b3-4c34-a7de-ecb50e9f3c2c",
   "metadata": {},
   "outputs": [
    {
     "data": {
      "text/plain": [
       "65"
      ]
     },
     "execution_count": 3,
     "metadata": {},
     "output_type": "execute_result"
    }
   ],
   "source": [
    "chars = sorted(list(set(text)))\n",
    "vocab_size = len(chars)\n",
    "vocab_size"
   ]
  },
  {
   "cell_type": "code",
   "execution_count": 4,
   "id": "b10104bb-7e28-4cde-8e9c-d138e54df945",
   "metadata": {},
   "outputs": [
    {
     "data": {
      "text/plain": [
       "True"
      ]
     },
     "execution_count": 4,
     "metadata": {},
     "output_type": "execute_result"
    }
   ],
   "source": [
    "# create a mapping from characters to integers\n",
    "stoi = {s:i for i,s in enumerate(chars)}\n",
    "itos = {i:s for s,i in stoi.items()}\n",
    "\n",
    "# encoder: take a string and output a list of integers\n",
    "encode = lambda s: [stoi[c] for c in s]\n",
    "\n",
    "# decoder: take a list of integers and output a string\n",
    "decode = lambda l: ''.join([itos[e] for e in l])\n",
    "\n",
    "decode(encode(\"hey there\")) == \"hey there\""
   ]
  },
  {
   "cell_type": "code",
   "execution_count": 5,
   "id": "b4e390b9-ab57-496f-a7a2-a6a8d26b224c",
   "metadata": {},
   "outputs": [],
   "source": [
    "import torch"
   ]
  },
  {
   "cell_type": "code",
   "execution_count": 6,
   "id": "654e4ae2-5a80-402d-a6c2-0adce41cbb22",
   "metadata": {},
   "outputs": [
    {
     "data": {
      "text/plain": [
       "(torch.Size([1115394]), torch.int64)"
      ]
     },
     "execution_count": 6,
     "metadata": {},
     "output_type": "execute_result"
    }
   ],
   "source": [
    "data = torch.tensor(encode(text))\n",
    "data.shape, data.dtype"
   ]
  },
  {
   "cell_type": "code",
   "execution_count": 7,
   "id": "fbf6968c-d60b-41d4-a736-999afc10a071",
   "metadata": {},
   "outputs": [
    {
     "name": "stdout",
     "output_type": "stream",
     "text": [
      "Train and val data shapes:  torch.Size([1003854]) torch.Size([111540])\n"
     ]
    }
   ],
   "source": [
    "# split the train and val data\n",
    "n = int(0.9*len(data))\n",
    "train_data = data[:n]\n",
    "val_data = data[n:]\n",
    "print(\"Train and val data shapes: \", train_data.shape, val_data.shape)"
   ]
  },
  {
   "cell_type": "code",
   "execution_count": 8,
   "id": "f12ddf78-2d37-4050-bb1e-832c83d31301",
   "metadata": {},
   "outputs": [
    {
     "data": {
      "text/plain": [
       "tensor([18, 47, 56, 57, 58,  1, 15, 47, 58])"
      ]
     },
     "execution_count": 8,
     "metadata": {},
     "output_type": "execute_result"
    }
   ],
   "source": [
    "# context length/block size is chunks of the data sampled randomly for training\n",
    "block_size = 8\n",
    "train_data[:block_size+1]"
   ]
  },
  {
   "cell_type": "code",
   "execution_count": 9,
   "id": "24359d1f-5751-453e-83e9-d7da9e6799dd",
   "metadata": {},
   "outputs": [
    {
     "name": "stdout",
     "output_type": "stream",
     "text": [
      "when the input is tensor([18]), the target is 47\n",
      "when the input is tensor([18, 47]), the target is 56\n",
      "when the input is tensor([18, 47, 56]), the target is 57\n",
      "when the input is tensor([18, 47, 56, 57]), the target is 58\n",
      "when the input is tensor([18, 47, 56, 57, 58]), the target is 1\n",
      "when the input is tensor([18, 47, 56, 57, 58,  1]), the target is 15\n",
      "when the input is tensor([18, 47, 56, 57, 58,  1, 15]), the target is 47\n",
      "when the input is tensor([18, 47, 56, 57, 58,  1, 15, 47]), the target is 58\n"
     ]
    }
   ],
   "source": [
    "x = train_data[:block_size]\n",
    "y = train_data[1:block_size+1]\n",
    "for t in range(block_size):\n",
    "    context = x[:t+1] # context is chars upto t including t\n",
    "    target = y[t]\n",
    "    print(f\"when the input is {context}, the target is {target}\")"
   ]
  },
  {
   "cell_type": "code",
   "execution_count": 10,
   "id": "2ebb14eb-b3eb-417e-afa6-2c64841af80d",
   "metadata": {},
   "outputs": [
    {
     "data": {
      "text/plain": [
       "(torch.Size([4, 8]), torch.Size([4, 8]))"
      ]
     },
     "execution_count": 10,
     "metadata": {},
     "output_type": "execute_result"
    }
   ],
   "source": [
    "torch.manual_seed(1337)\n",
    "batch_size = 4 # how many independent sequences will we process in parallel?\n",
    "block_size = 8 # what is the maximum context length for predictions?\n",
    "\n",
    "def get_batch(split):\n",
    "    # generate a small batch of data of inputs x and targets y\n",
    "    data = train_data if split == \"train\" else val_data\n",
    "    ix = torch.randint(len(data) - block_size, (batch_size, ))\n",
    "    x = torch.stack([data[i:i+block_size] for i in ix])\n",
    "    y = torch.stack([data[i+1:i+block_size+1] for i in ix])\n",
    "    return x, y\n",
    "\n",
    "xb, yb = get_batch('train')\n",
    "xb.shape, yb.shape"
   ]
  },
  {
   "cell_type": "code",
   "execution_count": 11,
   "id": "0c690a18-482c-45af-a2b9-404be841d08b",
   "metadata": {},
   "outputs": [
    {
     "name": "stdout",
     "output_type": "stream",
     "text": [
      "when the input is tensor([24]), the target is 43\n",
      "when the input is tensor([24, 43]), the target is 58\n",
      "when the input is tensor([24, 43, 58]), the target is 5\n",
      "when the input is tensor([24, 43, 58,  5]), the target is 57\n",
      "when the input is tensor([24, 43, 58,  5, 57]), the target is 1\n",
      "when the input is tensor([24, 43, 58,  5, 57,  1]), the target is 46\n",
      "when the input is tensor([24, 43, 58,  5, 57,  1, 46]), the target is 43\n",
      "when the input is tensor([24, 43, 58,  5, 57,  1, 46, 43]), the target is 39\n",
      "when the input is tensor([44]), the target is 53\n",
      "when the input is tensor([44, 53]), the target is 56\n",
      "when the input is tensor([44, 53, 56]), the target is 1\n",
      "when the input is tensor([44, 53, 56,  1]), the target is 58\n",
      "when the input is tensor([44, 53, 56,  1, 58]), the target is 46\n",
      "when the input is tensor([44, 53, 56,  1, 58, 46]), the target is 39\n",
      "when the input is tensor([44, 53, 56,  1, 58, 46, 39]), the target is 58\n",
      "when the input is tensor([44, 53, 56,  1, 58, 46, 39, 58]), the target is 1\n",
      "when the input is tensor([52]), the target is 58\n",
      "when the input is tensor([52, 58]), the target is 1\n",
      "when the input is tensor([52, 58,  1]), the target is 58\n",
      "when the input is tensor([52, 58,  1, 58]), the target is 46\n",
      "when the input is tensor([52, 58,  1, 58, 46]), the target is 39\n",
      "when the input is tensor([52, 58,  1, 58, 46, 39]), the target is 58\n",
      "when the input is tensor([52, 58,  1, 58, 46, 39, 58]), the target is 1\n",
      "when the input is tensor([52, 58,  1, 58, 46, 39, 58,  1]), the target is 46\n",
      "when the input is tensor([25]), the target is 17\n",
      "when the input is tensor([25, 17]), the target is 27\n",
      "when the input is tensor([25, 17, 27]), the target is 10\n",
      "when the input is tensor([25, 17, 27, 10]), the target is 0\n",
      "when the input is tensor([25, 17, 27, 10,  0]), the target is 21\n",
      "when the input is tensor([25, 17, 27, 10,  0, 21]), the target is 1\n",
      "when the input is tensor([25, 17, 27, 10,  0, 21,  1]), the target is 54\n",
      "when the input is tensor([25, 17, 27, 10,  0, 21,  1, 54]), the target is 39\n"
     ]
    }
   ],
   "source": [
    "for b in range(batch_size):\n",
    "    for t in range(block_size):\n",
    "        context = xb[b, :t+1] # context is chars upto t including t\n",
    "        target = yb[b, t]\n",
    "        print(f\"when the input is {context}, the target is {target}\")"
   ]
  },
  {
   "cell_type": "code",
   "execution_count": 12,
   "id": "819c05ba-0929-4525-95c5-e66d5189754a",
   "metadata": {},
   "outputs": [
    {
     "name": "stdout",
     "output_type": "stream",
     "text": [
      "tensor([[24, 43, 58,  5, 57,  1, 46, 43],\n",
      "        [44, 53, 56,  1, 58, 46, 39, 58],\n",
      "        [52, 58,  1, 58, 46, 39, 58,  1],\n",
      "        [25, 17, 27, 10,  0, 21,  1, 54]])\n"
     ]
    }
   ],
   "source": [
    "print(xb) # our input to the transformer"
   ]
  },
  {
   "cell_type": "code",
   "execution_count": 13,
   "id": "2c76207f-0b37-429f-b2da-3c6ed06d0a41",
   "metadata": {},
   "outputs": [
    {
     "name": "stdout",
     "output_type": "stream",
     "text": [
      "tensor(4.8786, grad_fn=<NllLossBackward0>)\n",
      "\n",
      "Sr?qP-QWktXoL&jLDJgOLVz'RIoDqHdhsV&vLLxatjscMpwLERSPyao.qfzs$Ys$zF-w,;eEkzxjgCKFChs!iWW.ObzDnxA Ms$3\n"
     ]
    }
   ],
   "source": [
    "import torch\n",
    "import torch.nn as nn\n",
    "from torch.nn import functional as F\n",
    "torch.manual_seed(1337)\n",
    "\n",
    "class BigramLanguageModel(nn.Module):\n",
    "\n",
    "    def __init__(self, vocab_size):\n",
    "        super().__init__()\n",
    "        self.token_embedding_table = nn.Embedding(vocab_size, vocab_size)\n",
    "\n",
    "    def forward(self, idx, targets=None):\n",
    "        # idx and targets are of shape (B, T)\n",
    "        logits = self.token_embedding_table(idx) # (B, T, C)\n",
    "        if targets is None:\n",
    "            loss = None\n",
    "        else:\n",
    "            B, T, C = logits.shape\n",
    "            logits = logits.view(B*T, C) # reshaping to (B*T, C) as torch expects C to be next to mini-batch\n",
    "            targets = targets.view(B*T) # reshaping to (B*T)\n",
    "            loss = F.cross_entropy(logits, targets)\n",
    "        return logits, loss\n",
    "\n",
    "    def generate(self, idx, max_new_tokens):\n",
    "        # idx is (B, T) array of indices in the current context\n",
    "        # generate(...) should take (B, T) and generate (B, T+1),\n",
    "        # take that and generate (B, T+2) until max_new_tokens\n",
    "        for _ in range(max_new_tokens):\n",
    "            # get the preds\n",
    "            logits, _ = self(idx)\n",
    "            # focus only on the last time step because it is bigram\n",
    "            logits = logits[:, -1, :] # (B, C)\n",
    "            # apply softmax\n",
    "            probs = F.softmax(logits, dim=-1)\n",
    "            # sample from the distribution\n",
    "            idx_next = torch.multinomial(probs, num_samples=1) # (B, 1)\n",
    "            # append sampled index to the running sequence\n",
    "            idx = torch.cat((idx, idx_next), dim=1) # (B, T+1)\n",
    "        return idx\n",
    "            \n",
    "\n",
    "m = BigramLanguageModel(vocab_size)\n",
    "out, loss = m(xb, yb)\n",
    "print(loss)\n",
    "idx = torch.zeros((1, 1), dtype=torch.long)\n",
    "print(decode(m.generate(idx, max_new_tokens=100)[0].tolist()))"
   ]
  },
  {
   "cell_type": "code",
   "execution_count": 14,
   "id": "ff679b1e-6a88-4de4-90ff-22e49e12cc53",
   "metadata": {},
   "outputs": [],
   "source": [
    "# create a PyTorch optimizer\n",
    "optimizer = torch.optim.AdamW(m.parameters(), lr=1e-3)"
   ]
  },
  {
   "cell_type": "code",
   "execution_count": 15,
   "id": "aa5a52c1-6c9b-4687-a11c-5871721e0058",
   "metadata": {},
   "outputs": [],
   "source": [
    "# training loop\n",
    "batch_size = 32\n",
    "for steps in range(10000):\n",
    "    # get batch\n",
    "    xb, yb = get_batch('train')\n",
    "    # forward pass\n",
    "    logits, loss = m(xb, yb)\n",
    "    # zero grad\n",
    "    optimizer.zero_grad(set_to_none=True)\n",
    "    # backward pass\n",
    "    loss.backward()\n",
    "    # parameter update\n",
    "    optimizer.step()"
   ]
  },
  {
   "cell_type": "code",
   "execution_count": 16,
   "id": "04934091-0cf9-4563-8629-a10aa6a91c45",
   "metadata": {},
   "outputs": [
    {
     "name": "stdout",
     "output_type": "stream",
     "text": [
      "Training loss:  2.5727508068084717\n",
      "\n",
      "Iyoteng h hasbe pave pirance\n",
      "Rie hicomyonthar's\n",
      "Plinseard ith henoure wounonthioneir thondy, y heltieiengerofo'dsssit ey\n",
      "KIN d pe wither vouprrouthercc.\n",
      "hathe; d!\n",
      "My hind tt hinig t ouchos tes; st yo hind wotte grotonear 'so it t jod weancotha:\n",
      "h hay.JUCle n prids, r loncave w hollular s O:\n",
      "HIs; ht anjx?\n",
      "\n",
      "DUThinqunt.\n",
      "\n",
      "LaZAnde.\n",
      "athave l.\n",
      "KEONH:\n",
      "ARThanco be y,-hedarwnoddy scace, tridesar, wnl'shenous s ls, theresseys\n",
      "PlorseelapinghiybHen yof GLUCEN t l-t E:\n",
      "I hisgothers je are!-e!\n",
      "QLYotouciullle'z,\n",
      "Thitertho s?\n",
      "NDan'spererfo cist ripl chys er orlese;\n",
      "Yo jehof h hecere ek? wferommot mowo soaf yoit, ince his, t, f at. fal whetrimy bupof tor atha Bu!\n",
      "JOutho f cimimave.\n",
      "NEDUSt cir selle p wie wede\n",
      "Ro n apenor f'Y tover witys an sh d w t e w!\n",
      "CEOntiretoaveE IINpe, theck. cung.\n",
      "ORIsthies hacin benqurd bll, d a r w wistatsowor ath\n",
      "Fivet bloll ang a-I theeancu,\n",
      "LINCI'T:\n",
      "Sarry t I Ane sze t\n",
      "LCKI thit,\n",
      "n.\n",
      "Faure ds ppplirn!\n",
      "meftou ow pring, avewist th;\n",
      "TENTEMETCI gienco, An he waro whiougou he s im\n"
     ]
    }
   ],
   "source": [
    "print(\"Training loss: \", loss.item())\n",
    "print(decode(m.generate(idx, max_new_tokens=1000)[0].tolist()))"
   ]
  },
  {
   "cell_type": "code",
   "execution_count": null,
   "id": "f35d97f6-44e4-4ba9-a55b-80361df47bcd",
   "metadata": {},
   "outputs": [],
   "source": [
    "B, T, C = 4, 8, 2\n",
    "x = torch.randn(B, T, C)"
   ]
  },
  {
   "cell_type": "code",
   "execution_count": 24,
   "id": "20f04747-8541-42de-979f-41b792993a2f",
   "metadata": {},
   "outputs": [
    {
     "data": {
      "text/plain": [
       "torch.Size([4, 8, 2])"
      ]
     },
     "execution_count": 24,
     "metadata": {},
     "output_type": "execute_result"
    }
   ],
   "source": [
    "# naive approach\n",
    "xbow = torch.zeros((B, T, C))\n",
    "for b in range(B):\n",
    "    for t in range(T):\n",
    "        xprev = x[b, :t+1] # (t, C)\n",
    "        xbow[b, t] = xprev.mean(0) # (C)\n",
    "xbow.shape"
   ]
  },
  {
   "cell_type": "code",
   "execution_count": 29,
   "id": "3ae65b1e-5fea-4fbc-ba61-ce979a063087",
   "metadata": {},
   "outputs": [
    {
     "name": "stdout",
     "output_type": "stream",
     "text": [
      "torch.Size([4, 8, 2])\n"
     ]
    },
    {
     "data": {
      "text/plain": [
       "True"
      ]
     },
     "execution_count": 29,
     "metadata": {},
     "output_type": "execute_result"
    }
   ],
   "source": [
    "# mathematical trick for vectorized implementation\n",
    "# tril is lower triangular matrix\n",
    "wei = torch.tril(torch.ones(T, T)) # (T, T)\n",
    "wei = wei / wei.sum(1, keepdim=True) # (T, T)\n",
    "xbow2 = wei @ x # (T, T) @ (B, T, C) -> (B, T, T) @ (B, T, C) -> (B, T, C)\n",
    "print(xbow2.shape)\n",
    "torch.allclose(xbow, xbow2)"
   ]
  },
  {
   "cell_type": "code",
   "execution_count": 34,
   "id": "79a3eacd-c427-4993-a989-043859b08585",
   "metadata": {},
   "outputs": [
    {
     "name": "stdout",
     "output_type": "stream",
     "text": [
      "torch.Size([4, 8, 2])\n"
     ]
    },
    {
     "data": {
      "text/plain": [
       "True"
      ]
     },
     "execution_count": 34,
     "metadata": {},
     "output_type": "execute_result"
    }
   ],
   "source": [
    "# version 3 using softmax\n",
    "tril = torch.tril(torch.ones(T, T))\n",
    "wei = torch.zeros((T, T))\n",
    "wei = wei.masked_fill(tril == 0, float('-inf'))\n",
    "wei = F.softmax(wei, dim=-1)\n",
    "xbow3 = wei @ x\n",
    "print(xbow3.shape)\n",
    "torch.allclose(xbow, xbow3)"
   ]
  },
  {
   "cell_type": "code",
   "execution_count": 43,
   "id": "bcccff67-b630-4961-8bc2-cac2ef08964f",
   "metadata": {},
   "outputs": [
    {
     "data": {
      "text/plain": [
       "torch.Size([4, 8, 16])"
      ]
     },
     "execution_count": 43,
     "metadata": {},
     "output_type": "execute_result"
    }
   ],
   "source": [
    "# Self attention\n",
    "# Each token/node emits the following:\n",
    "    # query - what do I want?\n",
    "    # key - what do I contain?\n",
    "    # value - what can I communicate to you if you find me interesting?\n",
    "# matrix multiplying key and query will give affinities\n",
    "# a high value in the output indicates that key and query are\n",
    "# aligned and you will get to learn more about that pair in the network\n",
    "torch.manual_seed(1337)\n",
    "B, T, C = 4, 8, 2\n",
    "x = torch.randn(B, T, C)\n",
    "\n",
    "# Single headed self-attention\n",
    "head_size = 16\n",
    "key = nn.Linear(C, head_size, bias=False)\n",
    "query = nn.Linear(C, head_size, bias=False)\n",
    "value = nn.Linear(C, head_size, bias=False)\n",
    "k = key(x) # (B, T, C) @ (B, C, 16) -> (B, T, 16)\n",
    "q = query(x) # (B, T, C) @ (B, C, 16) -> (B, T, 16)\n",
    "v = value(x) # (B, T, C) @ (B, C, 16) -> (B, T, 16)\n",
    "wei = q @ k.transpose(-2, -1) * head_size**-0.5 # (B, T, 16) @ (B, 16, T) -> (B, T, T)\n",
    "\n",
    "tril = torch.tril(torch.ones(T, T))\n",
    "wei = wei.masked_fill(tril == 0, float('-inf'))\n",
    "wei = F.softmax(wei, dim=-1)\n",
    "out = wei @ v # (B, T, T) @ (B, T, 16) -> (B, T, 16)\n",
    "out.shape"
   ]
  },
  {
   "cell_type": "code",
   "execution_count": 40,
   "id": "993ae945-c971-49ff-8280-47cddbfd70d0",
   "metadata": {},
   "outputs": [
    {
     "data": {
      "text/plain": [
       "tensor([[1.0000, 0.0000, 0.0000, 0.0000, 0.0000, 0.0000, 0.0000, 0.0000],\n",
       "        [0.5599, 0.4401, 0.0000, 0.0000, 0.0000, 0.0000, 0.0000, 0.0000],\n",
       "        [0.3220, 0.2016, 0.4764, 0.0000, 0.0000, 0.0000, 0.0000, 0.0000],\n",
       "        [0.1640, 0.0815, 0.2961, 0.4585, 0.0000, 0.0000, 0.0000, 0.0000],\n",
       "        [0.2051, 0.3007, 0.1894, 0.1808, 0.1241, 0.0000, 0.0000, 0.0000],\n",
       "        [0.0600, 0.1273, 0.0291, 0.0169, 0.0552, 0.7114, 0.0000, 0.0000],\n",
       "        [0.1408, 0.1025, 0.1744, 0.2038, 0.1690, 0.0669, 0.1426, 0.0000],\n",
       "        [0.0223, 0.1086, 0.0082, 0.0040, 0.0080, 0.7257, 0.0216, 0.1016]],\n",
       "       grad_fn=<SelectBackward0>)"
      ]
     },
     "execution_count": 40,
     "metadata": {},
     "output_type": "execute_result"
    }
   ],
   "source": [
    "wei[0]"
   ]
  },
  {
   "cell_type": "code",
   "execution_count": 2,
   "id": "d8081db8-e061-4810-a791-9d1c12c2b53f",
   "metadata": {},
   "outputs": [
    {
     "data": {
      "text/plain": [
       "<torch._C.Generator at 0x7f884002b990>"
      ]
     },
     "execution_count": 2,
     "metadata": {},
     "output_type": "execute_result"
    }
   ],
   "source": [
    "import torch\n",
    "torch.manual_seed(1337)"
   ]
  },
  {
   "cell_type": "code",
   "execution_count": 20,
   "id": "34a31e8e-4fd2-4fc8-9178-e2ee4d684434",
   "metadata": {},
   "outputs": [
    {
     "data": {
      "text/plain": [
       "True"
      ]
     },
     "execution_count": 20,
     "metadata": {},
     "output_type": "execute_result"
    }
   ],
   "source": [
    "def batchnorm(x, eps=1e-5):\n",
    "    # x: [N, C, H, W]\n",
    "    N, C, H, W = x.shape\n",
    "    \n",
    "    gamma = torch.ones((1, C, 1, 1))\n",
    "    beta = torch.zeros((1, C, 1, 1))\n",
    "    \n",
    "    xmean = x.mean([0, 2, 3], keepdim=True)\n",
    "    xvar = x.var([0, 2, 3], keepdim=True)\n",
    "    xhat = (x - xmean) / (torch.sqrt(xvar + eps))\n",
    "    return gamma * xhat + beta\n",
    "\n",
    "bn = torch.nn.BatchNorm2d(64)\n",
    "\n",
    "# x: [N, C, H, W]\n",
    "x = torch.randn(32, 64, 128, 128)\n",
    "my_out = batchnorm(x)\n",
    "torch_out = bn(x)\n",
    "torch.allclose(my_out, torch_out)"
   ]
  },
  {
   "cell_type": "code",
   "execution_count": 23,
   "id": "3df91590-7c02-4b3d-8059-5700667ea960",
   "metadata": {},
   "outputs": [
    {
     "data": {
      "text/plain": [
       "True"
      ]
     },
     "execution_count": 23,
     "metadata": {},
     "output_type": "execute_result"
    }
   ],
   "source": [
    "def layernorm(x, eps=1e-5):\n",
    "    # x: [N, C, H, W]\n",
    "    N, C, H, W = x.shape\n",
    "    \n",
    "    gamma = torch.ones((N, 1, 1, 1))\n",
    "    beta = torch.zeros((N, 1, 1, 1))\n",
    "    \n",
    "    xmean = x.mean([1, 2, 3], keepdim=True)\n",
    "    xvar = x.var([1, 2, 3], keepdim=True)\n",
    "    xhat = (x - xmean) / (torch.sqrt(xvar + eps))\n",
    "    return gamma * xhat + beta\n",
    "\n",
    "ln = torch.nn.LayerNorm([64, 128, 128])\n",
    "\n",
    "# x: [N, C, H, W]\n",
    "x = torch.randn(32, 64, 128, 128)\n",
    "my_out = layernorm(x)\n",
    "torch_out = ln(x)\n",
    "torch.allclose(my_out, torch_out)"
   ]
  },
  {
   "cell_type": "code",
   "execution_count": 30,
   "id": "96671fbb-6b8a-4029-a708-3c91d079bdff",
   "metadata": {},
   "outputs": [
    {
     "data": {
      "text/plain": [
       "False"
      ]
     },
     "execution_count": 30,
     "metadata": {},
     "output_type": "execute_result"
    }
   ],
   "source": [
    "def instancenorm(x, eps=1e-5):\n",
    "    # x: [N, C, H, W]\n",
    "    N, C, H, W = x.shape\n",
    "    \n",
    "    gamma = torch.ones((N, C, 1, 1))\n",
    "    beta = torch.zeros((N, C, 1, 1))\n",
    "    \n",
    "    xmean = x.mean([2, 3], keepdim=True)\n",
    "    xvar = x.var([2, 3], keepdim=True)\n",
    "    xhat = (x - xmean) / (torch.sqrt(xvar + eps))\n",
    "    return gamma * xhat + beta\n",
    "\n",
    "in_ = torch.nn.InstanceNorm2d(64)\n",
    "\n",
    "# x: [N, C, H, W]\n",
    "x = torch.randn(32, 64, 128, 128)\n",
    "my_out = instancenorm(x)\n",
    "torch_out = in_(x)\n",
    "torch.allclose(my_out, torch_out)"
   ]
  },
  {
   "cell_type": "code",
   "execution_count": 41,
   "id": "ef0a7d5f-4f84-4901-853b-a905bdca063b",
   "metadata": {},
   "outputs": [
    {
     "name": "stdout",
     "output_type": "stream",
     "text": [
      "torch.Size([32, 64, 1, 1])\n",
      "torch.Size([32, 8, 1, 1, 1])\n"
     ]
    },
    {
     "data": {
      "text/plain": [
       "True"
      ]
     },
     "execution_count": 41,
     "metadata": {},
     "output_type": "execute_result"
    }
   ],
   "source": [
    "def groupnorm(x, G, eps=1e-5):\n",
    "    # x: [N, C, H, W]\n",
    "    N, C, H, W = x.shape\n",
    "    \n",
    "    gamma = torch.ones((N, C, 1, 1))\n",
    "    beta = torch.zeros((N, C, 1, 1))\n",
    "    print(gamma.shape)\n",
    "\n",
    "    x = torch.reshape(x, [N, G, C // G, H, W])\n",
    "    xmean = x.mean([2, 3, 4], keepdim=True)\n",
    "    print(xmean.shape)\n",
    "    xvar = x.var([2, 3, 4], keepdim=True)\n",
    "    xhat = (x - xmean) / (torch.sqrt(xvar + eps))\n",
    "\n",
    "    xhat = torch.reshape(xhat, [N, C, H, W])\n",
    "    \n",
    "    return gamma * xhat + beta\n",
    "\n",
    "gn = torch.nn.GroupNorm(8, 64)\n",
    "\n",
    "# x: [N, C, H, W]\n",
    "x = torch.randn(32, 64, 128, 128)\n",
    "my_out = groupnorm(x, 8)\n",
    "torch_out = gn(x)\n",
    "torch.allclose(my_out, torch_out)"
   ]
  },
  {
   "cell_type": "code",
   "execution_count": 39,
   "id": "6b230c44-78de-43ca-888e-185f836a2b19",
   "metadata": {},
   "outputs": [
    {
     "data": {
      "text/plain": [
       "(torch.Size([32, 64, 128, 128]), torch.Size([32, 8, 8, 128, 128]))"
      ]
     },
     "execution_count": 39,
     "metadata": {},
     "output_type": "execute_result"
    }
   ],
   "source": [
    "torch_out.shape, my_out.shape"
   ]
  },
  {
   "cell_type": "code",
   "execution_count": null,
   "id": "3e75d01e-5bc0-4be9-9829-ab45aed94a02",
   "metadata": {},
   "outputs": [],
   "source": []
  }
 ],
 "metadata": {
  "kernelspec": {
   "display_name": "Python 3 (ipykernel)",
   "language": "python",
   "name": "python3"
  },
  "language_info": {
   "codemirror_mode": {
    "name": "ipython",
    "version": 3
   },
   "file_extension": ".py",
   "mimetype": "text/x-python",
   "name": "python",
   "nbconvert_exporter": "python",
   "pygments_lexer": "ipython3",
   "version": "3.10.12"
  }
 },
 "nbformat": 4,
 "nbformat_minor": 5
}
